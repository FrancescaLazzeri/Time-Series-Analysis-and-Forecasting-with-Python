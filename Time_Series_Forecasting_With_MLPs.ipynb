{
 "cells": [
  {
   "attachments": {},
   "cell_type": "markdown",
   "metadata": {},
   "source": [
    "# MLPs For Univaraite Forecasting"
   ]
  },
  {
   "cell_type": "code",
   "execution_count": 64,
   "metadata": {},
   "outputs": [],
   "source": [
    "#imports\n",
    "import numpy as np\n",
    "import pandas as pd\n",
    "import torch\n",
    "import torch.nn as nn\n",
    "import torch.optim as optim\n",
    "import torch.nn.functional as F\n",
    "import matplotlib.pyplot as plt"
   ]
  },
  {
   "cell_type": "code",
   "execution_count": 9,
   "metadata": {},
   "outputs": [],
   "source": [
    "df = pd.read_csv(\"data/Alcohol_Sales.csv\", infer_datetime_format=True, index_col='DATE')"
   ]
  },
  {
   "cell_type": "code",
   "execution_count": 10,
   "metadata": {},
   "outputs": [
    {
     "data": {
      "text/plain": [
       "Index(['S4248SM144NCEN'], dtype='object')"
      ]
     },
     "execution_count": 10,
     "metadata": {},
     "output_type": "execute_result"
    }
   ],
   "source": [
    "df.columns"
   ]
  },
  {
   "cell_type": "code",
   "execution_count": 11,
   "metadata": {},
   "outputs": [],
   "source": [
    "df.rename({\"S4248SM144NCEN\":\"Sales\"}, inplace=True, axis=1)"
   ]
  },
  {
   "cell_type": "code",
   "execution_count": 12,
   "metadata": {},
   "outputs": [
    {
     "data": {
      "text/plain": [
       "Index(['Sales'], dtype='object')"
      ]
     },
     "execution_count": 12,
     "metadata": {},
     "output_type": "execute_result"
    }
   ],
   "source": [
    "df.columns"
   ]
  },
  {
   "cell_type": "code",
   "execution_count": 13,
   "metadata": {},
   "outputs": [
    {
     "data": {
      "text/plain": [
       "Index(['Sales'], dtype='object')"
      ]
     },
     "execution_count": 13,
     "metadata": {},
     "output_type": "execute_result"
    }
   ],
   "source": [
    "df.columns"
   ]
  },
  {
   "cell_type": "code",
   "execution_count": 14,
   "metadata": {},
   "outputs": [
    {
     "data": {
      "text/html": [
       "<div>\n",
       "<style scoped>\n",
       "    .dataframe tbody tr th:only-of-type {\n",
       "        vertical-align: middle;\n",
       "    }\n",
       "\n",
       "    .dataframe tbody tr th {\n",
       "        vertical-align: top;\n",
       "    }\n",
       "\n",
       "    .dataframe thead th {\n",
       "        text-align: right;\n",
       "    }\n",
       "</style>\n",
       "<table border=\"1\" class=\"dataframe\">\n",
       "  <thead>\n",
       "    <tr style=\"text-align: right;\">\n",
       "      <th></th>\n",
       "      <th>Sales</th>\n",
       "    </tr>\n",
       "    <tr>\n",
       "      <th>DATE</th>\n",
       "      <th></th>\n",
       "    </tr>\n",
       "  </thead>\n",
       "  <tbody>\n",
       "    <tr>\n",
       "      <th>1992-01-01</th>\n",
       "      <td>3459</td>\n",
       "    </tr>\n",
       "    <tr>\n",
       "      <th>1992-02-01</th>\n",
       "      <td>3458</td>\n",
       "    </tr>\n",
       "    <tr>\n",
       "      <th>1992-03-01</th>\n",
       "      <td>4002</td>\n",
       "    </tr>\n",
       "    <tr>\n",
       "      <th>1992-04-01</th>\n",
       "      <td>4564</td>\n",
       "    </tr>\n",
       "    <tr>\n",
       "      <th>1992-05-01</th>\n",
       "      <td>4221</td>\n",
       "    </tr>\n",
       "  </tbody>\n",
       "</table>\n",
       "</div>"
      ],
      "text/plain": [
       "            Sales\n",
       "DATE             \n",
       "1992-01-01   3459\n",
       "1992-02-01   3458\n",
       "1992-03-01   4002\n",
       "1992-04-01   4564\n",
       "1992-05-01   4221"
      ]
     },
     "execution_count": 14,
     "metadata": {},
     "output_type": "execute_result"
    }
   ],
   "source": [
    "df.head()"
   ]
  },
  {
   "cell_type": "code",
   "execution_count": 16,
   "metadata": {},
   "outputs": [
    {
     "data": {
      "text/plain": [
       "Sales    0\n",
       "dtype: int64"
      ]
     },
     "execution_count": 16,
     "metadata": {},
     "output_type": "execute_result"
    }
   ],
   "source": [
    "df.isna().sum()"
   ]
  },
  {
   "cell_type": "code",
   "execution_count": 17,
   "metadata": {},
   "outputs": [
    {
     "data": {
      "text/plain": [
       "(325, 1)"
      ]
     },
     "execution_count": 17,
     "metadata": {},
     "output_type": "execute_result"
    }
   ],
   "source": [
    "df.shape"
   ]
  },
  {
   "attachments": {},
   "cell_type": "markdown",
   "metadata": {},
   "source": [
    "Hyperparameters:\n",
    "\n",
    "- `n_input`: The number of lag observations to use as input to the model.\n",
    "- `n_nodes`: The number of nodes to use in the hidden layer.\n",
    "- `n_epochs`: The number of times to expose the model to the whole training dataset.\n",
    "- `n_batch`: The number of samples within an epoch after which the weights are updated."
   ]
  },
  {
   "cell_type": "code",
   "execution_count": 35,
   "metadata": {},
   "outputs": [],
   "source": [
    "#hyperparameters\n",
    "n_input = 12\n",
    "n_nodes = 100\n",
    "n_epochs = 100"
   ]
  },
  {
   "cell_type": "code",
   "execution_count": 42,
   "metadata": {},
   "outputs": [
    {
     "data": {
      "text/plain": [
       "21"
      ]
     },
     "execution_count": 42,
     "metadata": {},
     "output_type": "execute_result"
    }
   ],
   "source": [
    "325 - 16*19"
   ]
  },
  {
   "cell_type": "code",
   "execution_count": 31,
   "metadata": {},
   "outputs": [],
   "source": [
    "\n",
    "# split a univariate dataset into train/test sets\n",
    "def train_test_split(data, n_test):\n",
    "  return data[:-n_test], data[-n_test:]"
   ]
  },
  {
   "cell_type": "code",
   "execution_count": 39,
   "metadata": {},
   "outputs": [
    {
     "data": {
      "text/plain": [
       "array([[ 3459.,  3458.,  4002., ...,  4240.,  4936.,  3031.],\n",
       "       [ 3458.,  4002.,  4564., ...,  4936.,  3031.,  3261.],\n",
       "       [ 4002.,  4564.,  4221., ...,  3031.,  3261.,  4160.],\n",
       "       ...,\n",
       "       [13261., 14265.,  9564., ..., 12396., 13914., 14174.],\n",
       "       [14265.,  9564., 10415., ..., 13914., 14174., 15504.],\n",
       "       [ 9564., 10415., 12683., ..., 14174., 15504., 10718.]])"
      ]
     },
     "execution_count": 39,
     "metadata": {},
     "output_type": "execute_result"
    }
   ],
   "source": [
    "# transform list into supervised learning format\n",
    "def series_to_supervised(data, n_in, n_out=1):\n",
    "  df = pd.DataFrame(data)\n",
    "  cols = list()\n",
    "  # input sequence (t-n, ... t-1)\n",
    "  for i in range(n_in, 0, -1):\n",
    "    cols.append(df.shift(i))\n",
    "  # forecast sequence (t, t+1, ... t+n)\n",
    "  for i in range(0, n_out):\n",
    "    cols.append(df.shift(-i))\n",
    "  # put it all together\n",
    "  agg = pd.concat(cols, axis=1)\n",
    "  # drop rows with NaN values\n",
    "  agg.dropna(inplace=True)\n",
    "  \n",
    "  return agg.values\n",
    "\n",
    "series_to_supervised(df.values, 12)"
   ]
  },
  {
   "cell_type": "code",
   "execution_count": 41,
   "metadata": {},
   "outputs": [
    {
     "name": "stdout",
     "output_type": "stream",
     "text": [
      "train shape : (304, 1), test shape : (21, 1)\n"
     ]
    }
   ],
   "source": [
    "train, test = train_test_split(df, 21)\n",
    "\n",
    "print(f\"train shape : {train.shape}, test shape : {test.shape}\")"
   ]
  },
  {
   "cell_type": "code",
   "execution_count": 46,
   "metadata": {},
   "outputs": [
    {
     "data": {
      "text/plain": [
       "((292, 12), (292,))"
      ]
     },
     "execution_count": 46,
     "metadata": {},
     "output_type": "execute_result"
    }
   ],
   "source": [
    "data = series_to_supervised(train, n_input)\n",
    "train_x, train_y = data[:, :-1], data[:, -1]\n",
    "train_x.shape, train_y.shape"
   ]
  },
  {
   "cell_type": "code",
   "execution_count": 49,
   "metadata": {},
   "outputs": [
    {
     "data": {
      "text/plain": [
       "3504"
      ]
     },
     "execution_count": 49,
     "metadata": {},
     "output_type": "execute_result"
    }
   ],
   "source": [
    "train_x.shape[0] * train_x.shape[1]"
   ]
  },
  {
   "cell_type": "code",
   "execution_count": 50,
   "metadata": {},
   "outputs": [
    {
     "data": {
      "text/plain": [
       "(292, 12)"
      ]
     },
     "execution_count": 50,
     "metadata": {},
     "output_type": "execute_result"
    }
   ],
   "source": [
    "train_x.shape"
   ]
  },
  {
   "cell_type": "code",
   "execution_count": 129,
   "metadata": {},
   "outputs": [],
   "source": [
    "# define model\n",
    "\n",
    "class TimeSeriesMLPModel(nn.Module):\n",
    "\n",
    "    def __init__(self, n_input, n_nodes) -> None:\n",
    "        super().__init__()\n",
    "        self.lm_linear = nn.Sequential(\n",
    "            nn.Linear(in_features=n_input, out_features=n_nodes),\n",
    "            nn.ReLU(),\n",
    "            nn.Linear(in_features=n_nodes, out_features=1),\n",
    "            )\n",
    "    def forward(self, X):\n",
    "        \n",
    "        B, T = X.shape\n",
    "        logits = self.lm_linear(X)\n",
    "        return logits\n"
   ]
  },
  {
   "cell_type": "code",
   "execution_count": 130,
   "metadata": {},
   "outputs": [],
   "source": [
    "n_input = 12\n",
    "n_nodes = 100\n",
    "mlp_model  = TimeSeriesMLPModel(n_input, n_nodes)"
   ]
  },
  {
   "cell_type": "code",
   "execution_count": 131,
   "metadata": {},
   "outputs": [],
   "source": [
    "#loss function and optimizer\n",
    "criterion = nn.MSELoss()\n",
    "optimizer = optim.Adam(mlp_model.parameters())\n"
   ]
  },
  {
   "cell_type": "code",
   "execution_count": 132,
   "metadata": {},
   "outputs": [
    {
     "name": "stderr",
     "output_type": "stream",
     "text": [
      "/var/folders/xf/gcbfh98s6n53wh5f2hpb84nh0000gn/T/ipykernel_23539/4274117446.py:2: UserWarning: To copy construct from a tensor, it is recommended to use sourceTensor.clone().detach() or sourceTensor.clone().detach().requires_grad_(True), rather than torch.tensor(sourceTensor).\n",
      "  train_x, train_y = torch.tensor(train_x, dtype=torch.float32), torch.tensor(train_y, dtype=torch.float32)\n"
     ]
    }
   ],
   "source": [
    "#convert datatype\n",
    "train_x, train_y = torch.tensor(train_x, dtype=torch.float32), torch.tensor(train_y, dtype=torch.float32)\n"
   ]
  },
  {
   "cell_type": "code",
   "execution_count": 133,
   "metadata": {},
   "outputs": [
    {
     "data": {
      "image/png": "[encoded data removed]",
      "text/plain": [
       "<Figure size 432x288 with 1 Axes>"
      ]
     },
     "metadata": {
      "needs_background": "light"
     },
     "output_type": "display_data"
    }
   ],
   "source": [
    "#training loop\n",
    "\n",
    "train_losses = []\n",
    "test_losses = []\n",
    "\n",
    "for _ in range(n_epochs):\n",
    "    \n",
    "    optimizer.zero_grad()\n",
    "    logits = mlp_model.forward(train_x)\n",
    "    loss = criterion(logits.view(-1), train_y)\n",
    "    train_losses.append(loss.item())\n",
    "    #validation\n",
    "    #history\n",
    "    with torch.no_grad():\n",
    "        history = train_x[-1].tolist() + train_y[-1][None].tolist()\n",
    "\n",
    "        y_pred_values = []\n",
    "        y_true = []\n",
    "        for i in range(len(test)):\n",
    "\n",
    "            test_points = torch.tensor(history[-n_input:], dtype=torch.float32).view(1, n_input)\n",
    "            yhat =  mlp_model.forward(test_points)\n",
    "            history.append(test[i][0])\n",
    "            y_pred_values.append(yhat.item())\n",
    "            y_true.append(test[i][0])\n",
    "\n",
    "        y_pred_values = torch.tensor(y_pred_values, dtype=torch.float32)\n",
    "        y_true = torch.tensor(y_true, dtype=torch.float32)\n",
    "        test_loss = criterion(y_pred_values, y_true)\n",
    "        test_losses.append(test_loss.item())\n",
    "    loss.backward()\n",
    "    optimizer.step()\n",
    "\n",
    "# Plot the first graph\n",
    "plt.plot(train_losses, label='Train Loss')\n",
    "\n",
    "# Plot the second graph on the same plot\n",
    "plt.plot(test_losses, label='Test Loss')\n",
    "\n",
    "# Adding labels and legend\n",
    "plt.xlabel('Epochs')\n",
    "plt.ylabel('Losses')\n",
    "plt.title('Train and Valid loss per epochs')\n",
    "plt.legend()\n",
    "\n",
    "# Show the plot\n",
    "plt.show()\n"
   ]
  },
  {
   "attachments": {},
   "cell_type": "markdown",
   "metadata": {},
   "source": [
    "## Model Evaluation"
   ]
  },
  {
   "cell_type": "code",
   "execution_count": 120,
   "metadata": {},
   "outputs": [
    {
     "data": {
      "text/plain": [
       "(tensor([3459., 3458., 4002., 4564., 4221., 4529., 4466., 4137., 4126., 4259.,\n",
       "         4240., 4936.]),\n",
       " tensor(3031.))"
      ]
     },
     "execution_count": 120,
     "metadata": {},
     "output_type": "execute_result"
    }
   ],
   "source": [
    "train_x[0], train_y[0]"
   ]
  },
  {
   "cell_type": "code",
   "execution_count": 73,
   "metadata": {},
   "outputs": [
    {
     "data": {
      "text/plain": [
       "(tensor([3458., 4002., 4564., 4221., 4529., 4466., 4137., 4126., 4259., 4240.,\n",
       "         4936., 3031.]),\n",
       " tensor(3261.))"
      ]
     },
     "execution_count": 73,
     "metadata": {},
     "output_type": "execute_result"
    }
   ],
   "source": [
    "train_x[1], train_y[1]"
   ]
  },
  {
   "cell_type": "code",
   "execution_count": 82,
   "metadata": {},
   "outputs": [],
   "source": [
    "test = test.values"
   ]
  },
  {
   "cell_type": "code",
   "execution_count": 86,
   "metadata": {},
   "outputs": [
    {
     "data": {
      "text/plain": [
       "11491.0"
      ]
     },
     "execution_count": 86,
     "metadata": {},
     "output_type": "execute_result"
    }
   ],
   "source": [
    "train_y[-1].to"
   ]
  },
  {
   "cell_type": "code",
   "execution_count": 91,
   "metadata": {},
   "outputs": [
    {
     "data": {
      "text/plain": [
       "[11491.0]"
      ]
     },
     "execution_count": 91,
     "metadata": {},
     "output_type": "execute_result"
    }
   ],
   "source": [
    "train_y[-1][None].tolist()"
   ]
  },
  {
   "cell_type": "code",
   "execution_count": 95,
   "metadata": {},
   "outputs": [
    {
     "data": {
      "text/plain": [
       "torch.Size([12])"
      ]
     },
     "execution_count": 95,
     "metadata": {},
     "output_type": "execute_result"
    }
   ],
   "source": [
    "#history\n",
    "history = train_x[-1].tolist() + train_y[-1][None].tolist()\n",
    "len(history)\n",
    "torch.tensor(history[-n_input:], dtype=torch.float32).shape"
   ]
  },
  {
   "cell_type": "code",
   "execution_count": 100,
   "metadata": {},
   "outputs": [
    {
     "data": {
      "text/plain": [
       "array([13545])"
      ]
     },
     "execution_count": 100,
     "metadata": {},
     "output_type": "execute_result"
    }
   ],
   "source": [
    "test[0]"
   ]
  },
  {
   "cell_type": "code",
   "execution_count": 103,
   "metadata": {},
   "outputs": [
    {
     "name": "stdout",
     "output_type": "stream",
     "text": [
      "Test loss : 2197143.25\n"
     ]
    }
   ],
   "source": [
    "#history\n",
    "history = train_x[-1].tolist() + train_y[-1][None].tolist()\n",
    "\n",
    "y_pred_values = []\n",
    "y_true = []\n",
    "for i in range(len(test)):\n",
    "\n",
    "    test_points = torch.tensor(history[-n_input:], dtype=torch.float32).view(1, n_input)\n",
    "    yhat =  mlp_model.forward(test_points)\n",
    "    history.append(test[i][0])\n",
    "    y_pred_values.append(yhat.item())\n",
    "    y_true.append(test[i][0])\n",
    "\n",
    "y_pred_values = torch.tensor(y_pred_values, dtype=torch.float32)\n",
    "y_true = torch.tensor(y_true, dtype=torch.float32)\n",
    "test_loss = criterion(y_pred_values, y_true)\n",
    "\n",
    "print(f\"Test loss : {test_loss}\")\n"
   ]
  },
  {
   "cell_type": "code",
   "execution_count": null,
   "metadata": {},
   "outputs": [],
   "source": []
  }
 ],
 "metadata": {
  "kernelspec": {
   "display_name": "base",
   "language": "python",
   "name": "python3"
  },
  "language_info": {
   "codemirror_mode": {
    "name": "ipython",
    "version": 3
   },
   "file_extension": ".py",
   "mimetype": "text/x-python",
   "name": "python",
   "nbconvert_exporter": "python",
   "pygments_lexer": "ipython3",
   "version": "3.9.12"
  },
  "orig_nbformat": 4
 },
 "nbformat": 4,
 "nbformat_minor": 2
}
